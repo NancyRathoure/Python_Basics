{
  "nbformat": 4,
  "nbformat_minor": 0,
  "metadata": {
    "colab": {
      "provenance": []
    },
    "kernelspec": {
      "name": "python3",
      "display_name": "Python 3"
    },
    "language_info": {
      "name": "python"
    }
  },
  "cells": [
    {
      "cell_type": "markdown",
      "source": [
        "# Python Basic Questions:"
      ],
      "metadata": {
        "id": "NeuwqeIQXaJl"
      }
    },
    {
      "cell_type": "markdown",
      "source": [
        "1.What is Python, and why is it popular?\n",
        "\n",
        "Python is a high-level, interpreted programming language known for its simplicity and readability.\n",
        "It is popular because of its ease of use, vast libraries, cross-platform compatibility, and strong community support."
      ],
      "metadata": {
        "id": "9IzPhiG2XNDn"
      }
    },
    {
      "cell_type": "markdown",
      "source": [
        "2.What is an interpreter in Python?\n",
        "\n",
        "An interpreter in Python is a program that executes Python code line by line, translating it into machine code at runtime."
      ],
      "metadata": {
        "id": "pjc698JTXuaq"
      }
    },
    {
      "cell_type": "markdown",
      "source": [
        "3.What are pre-defined keywords in Python?\n",
        "\n",
        "Pre-defined keywords are reserved words in Python that have a specific meaning, such as if, else, for, while, def, import, etc."
      ],
      "metadata": {
        "id": "8fTd3gVkX2d2"
      }
    },
    {
      "cell_type": "markdown",
      "source": [
        "4.Can keywords be used as variable names?\n",
        "\n",
        "No, keywords cannot be used as variable names because they have predefined meanings in Python."
      ],
      "metadata": {
        "id": "S072xxTfX5Ze"
      }
    },
    {
      "cell_type": "markdown",
      "source": [
        "5.What is mutability in Python?\n",
        "\n",
        "Mutability refers to whether an object’s state can be modified after creation. Mutable objects can change, while immutable objects cannot."
      ],
      "metadata": {
        "id": "3uAc8RfUYNhm"
      }
    },
    {
      "cell_type": "markdown",
      "source": [
        "6.Why are lists mutable, but tuples are immutable?\n",
        "\n",
        "Lists are mutable because they allow modifications such as adding, removing, or changing elements. Tuples are immutable because they are designed to be hashable and prevent accidental modifications."
      ],
      "metadata": {
        "id": "qfb6MuN8YVKj"
      }
    },
    {
      "cell_type": "markdown",
      "source": [
        "7.What is the difference between == and is operators in Python?\n",
        "\n",
        "* == checks for value equality (whether two variables have the same value).\n",
        "* is checks for identity equality (whether two variables refer to the same memory location)."
      ],
      "metadata": {
        "id": "ec50659wYa3d"
      }
    },
    {
      "cell_type": "markdown",
      "source": [
        "8.What are logical operators in Python?\n",
        "\n",
        "Logical operators in Python are:\n",
        "\n",
        "* and (both conditions must be true)\n",
        "* or (at least one condition must be true)\n",
        "* not (negates the condition)"
      ],
      "metadata": {
        "id": "G7bwcFUFYans"
      }
    },
    {
      "cell_type": "markdown",
      "source": [
        "9.What is type casting in Python?\n",
        "\n",
        "Type casting is converting one data type into another, such as converting a string to an integer."
      ],
      "metadata": {
        "id": "63XthstxYvQn"
      }
    },
    {
      "cell_type": "markdown",
      "source": [
        "10.What is the difference between implicit and explicit type casting?\n",
        "\n",
        "* Implicit type casting is done automatically by Python when converting compatible types (e.g., int to float).\n",
        "* Explicit type casting is done manually using functions like int(), float(), and str()."
      ],
      "metadata": {
        "id": "py4gFbpAYugn"
      }
    },
    {
      "cell_type": "markdown",
      "source": [
        "11.What is the purpose of conditional statements in Python?\n",
        "\n",
        "Conditional statements control the flow of execution based on conditions, allowing decision-making in code."
      ],
      "metadata": {
        "id": "vCXbvi9gY7ej"
      }
    },
    {
      "cell_type": "markdown",
      "source": [
        "12.How does the elif statement work?\n",
        "\n",
        "The elif statement allows multiple conditions to be checked sequentially after an if statement."
      ],
      "metadata": {
        "id": "o4bRapQqY7YI"
      }
    },
    {
      "cell_type": "markdown",
      "source": [
        "13.What is the difference between for and while loops?\n",
        "\n",
        "* for loop is used when the number of iterations is known.\n",
        "* while loop is used when the number of iterations depends on a condition.\n"
      ],
      "metadata": {
        "id": "XLGrIFHLY7K5"
      }
    },
    {
      "cell_type": "markdown",
      "source": [
        "14.Describe a scenario where a while loop is more suitable than a for loop.\n",
        "\n",
        "A while loop is better when iterating until a user provides a valid input, such as continuously asking for a password until it is correct."
      ],
      "metadata": {
        "id": "hmZ-oWDcZLCi"
      }
    },
    {
      "cell_type": "markdown",
      "source": [
        "# Practical Questions:\n",
        "\n"
      ],
      "metadata": {
        "id": "InD4lKxZZK4I"
      }
    },
    {
      "cell_type": "markdown",
      "source": [
        "1.Write a Python program to print \"Hello, World!\""
      ],
      "metadata": {
        "id": "v0gTZkGzZf3I"
      }
    },
    {
      "cell_type": "code",
      "source": [
        "print(\"Hello, World!\")\n"
      ],
      "metadata": {
        "colab": {
          "base_uri": "https://localhost:8080/"
        },
        "id": "rHntaazBZaVD",
        "outputId": "9b5da1ca-e180-48c4-e177-d9db0694c80f"
      },
      "execution_count": 4,
      "outputs": [
        {
          "output_type": "stream",
          "name": "stdout",
          "text": [
            "Hello, World!\n"
          ]
        }
      ]
    },
    {
      "cell_type": "markdown",
      "source": [
        "2.Write a Python program that displays your name and age."
      ],
      "metadata": {
        "id": "YJlt-1LyZnym"
      }
    },
    {
      "cell_type": "code",
      "source": [
        "name = \"Nancy\"\n",
        "age = 22\n",
        "print(\"Name:\", name)\n",
        "print(\"Age:\", age)\n"
      ],
      "metadata": {
        "colab": {
          "base_uri": "https://localhost:8080/"
        },
        "id": "LQGi-pp2ZdSR",
        "outputId": "dc29ec96-ce83-4bb0-ea7a-7f494c7a91bb"
      },
      "execution_count": 5,
      "outputs": [
        {
          "output_type": "stream",
          "name": "stdout",
          "text": [
            "Name: Nancy\n",
            "Age: 22\n"
          ]
        }
      ]
    },
    {
      "cell_type": "markdown",
      "source": [
        "3.Write code to print all the pre-defined keywords in Python using the keyword library."
      ],
      "metadata": {
        "id": "oMYjlU4cZyEz"
      }
    },
    {
      "cell_type": "code",
      "source": [
        "import keyword\n",
        "print(keyword.kwlist)"
      ],
      "metadata": {
        "colab": {
          "base_uri": "https://localhost:8080/"
        },
        "id": "LqUzXBWQZw9I",
        "outputId": "8e040d0f-4a95-4e7f-c277-3c2b8625551c"
      },
      "execution_count": 7,
      "outputs": [
        {
          "output_type": "stream",
          "name": "stdout",
          "text": [
            "['False', 'None', 'True', 'and', 'as', 'assert', 'async', 'await', 'break', 'class', 'continue', 'def', 'del', 'elif', 'else', 'except', 'finally', 'for', 'from', 'global', 'if', 'import', 'in', 'is', 'lambda', 'nonlocal', 'not', 'or', 'pass', 'raise', 'return', 'try', 'while', 'with', 'yield']\n"
          ]
        }
      ]
    },
    {
      "cell_type": "markdown",
      "source": [
        "4.Write a program that checks if a given word is a Python keyword."
      ],
      "metadata": {
        "id": "127hy7ghZ584"
      }
    },
    {
      "cell_type": "code",
      "source": [
        "import keyword\n",
        "word = input(\"Enter a word: \")\n",
        "print(f\"{word} is a keyword\" if word in keyword.kwlist else f\"{word} is not a keyword\")"
      ],
      "metadata": {
        "colab": {
          "base_uri": "https://localhost:8080/"
        },
        "id": "g73CCXBuZ38l",
        "outputId": "cfee89da-59c2-43e2-d5d4-2b36996a45eb"
      },
      "execution_count": 11,
      "outputs": [
        {
          "output_type": "stream",
          "name": "stdout",
          "text": [
            "Enter a word: def\n",
            "def is a keyword\n"
          ]
        }
      ]
    },
    {
      "cell_type": "markdown",
      "source": [
        "5.Create a list and tuple in Python, and demonstrate how attempting to change an element works differently for each."
      ],
      "metadata": {
        "id": "eqXMZEo2ahXB"
      }
    },
    {
      "cell_type": "code",
      "source": [
        "my_list = [1, 2, 3]\n",
        "my_tuple = (1, 2, 3)\n",
        "\n",
        "my_list[0] = 10  # It will works fine\n",
        "print(my_list)\n",
        "\n",
        "my_tuple[0] = 10  # It will raise TypeError"
      ],
      "metadata": {
        "colab": {
          "base_uri": "https://localhost:8080/",
          "height": 193
        },
        "id": "LGl9CHDkaHzM",
        "outputId": "807b7fd7-bd76-4431-a4a3-d9ff17dd7a8c"
      },
      "execution_count": 13,
      "outputs": [
        {
          "output_type": "stream",
          "name": "stdout",
          "text": [
            "[10, 2, 3]\n"
          ]
        },
        {
          "output_type": "error",
          "ename": "TypeError",
          "evalue": "'tuple' object does not support item assignment",
          "traceback": [
            "\u001b[0;31m---------------------------------------------------------------------------\u001b[0m",
            "\u001b[0;31mTypeError\u001b[0m                                 Traceback (most recent call last)",
            "\u001b[0;32m<ipython-input-13-b125b85ead2a>\u001b[0m in \u001b[0;36m<cell line: 0>\u001b[0;34m()\u001b[0m\n\u001b[1;32m      5\u001b[0m \u001b[0mprint\u001b[0m\u001b[0;34m(\u001b[0m\u001b[0mmy_list\u001b[0m\u001b[0;34m)\u001b[0m\u001b[0;34m\u001b[0m\u001b[0;34m\u001b[0m\u001b[0m\n\u001b[1;32m      6\u001b[0m \u001b[0;34m\u001b[0m\u001b[0m\n\u001b[0;32m----> 7\u001b[0;31m \u001b[0mmy_tuple\u001b[0m\u001b[0;34m[\u001b[0m\u001b[0;36m0\u001b[0m\u001b[0;34m]\u001b[0m \u001b[0;34m=\u001b[0m \u001b[0;36m10\u001b[0m  \u001b[0;31m# It will raise TypeError\u001b[0m\u001b[0;34m\u001b[0m\u001b[0;34m\u001b[0m\u001b[0m\n\u001b[0m",
            "\u001b[0;31mTypeError\u001b[0m: 'tuple' object does not support item assignment"
          ]
        }
      ]
    },
    {
      "cell_type": "markdown",
      "source": [
        "6.Write a function to demonstrate the behavior of mutable and immutable arguments.\n",
        "\n"
      ],
      "metadata": {
        "id": "X4UwryLUa2_M"
      }
    },
    {
      "cell_type": "code",
      "source": [
        "def modify_data(lst, num):\n",
        "    lst.append(4)  # Modifies mutable list\n",
        "    num += 1  # Does not modify immutable integer\n",
        "\n",
        "my_list = [1, 2, 3]\n",
        "my_num = 10\n",
        "modify_data(my_list, my_num)\n",
        "\n",
        "print(my_list)  # [1, 2, 3, 4]\n",
        "print(my_num)   # 10"
      ],
      "metadata": {
        "colab": {
          "base_uri": "https://localhost:8080/"
        },
        "id": "yANs6Wsean6I",
        "outputId": "0eaeb21a-2f59-4255-ca39-0803182f345d"
      },
      "execution_count": 15,
      "outputs": [
        {
          "output_type": "stream",
          "name": "stdout",
          "text": [
            "[1, 2, 3, 4]\n",
            "10\n"
          ]
        }
      ]
    },
    {
      "cell_type": "markdown",
      "source": [
        "7.Write a function to demonstrate the behavior of mutable and immutable arguments.\n"
      ],
      "metadata": {
        "id": "QlDY-f87cY5x"
      }
    },
    {
      "cell_type": "code",
      "source": [
        "def modify_data(lst, num):\n",
        "    lst.append(4)  # Modifies mutable list\n",
        "    num += 1  # Does not modify immutable integer\n",
        "\n",
        "my_list = [1, 2, 3]\n",
        "my_num = 10\n",
        "modify_data(my_list, my_num)\n",
        "\n",
        "print(my_list)  # [1, 2, 3, 4]\n",
        "print(my_num)   # 10"
      ],
      "metadata": {
        "colab": {
          "base_uri": "https://localhost:8080/"
        },
        "id": "_XfXe3UlchOC",
        "outputId": "8dd176e9-2519-4321-8190-c17a17d9c5d6"
      },
      "execution_count": 27,
      "outputs": [
        {
          "output_type": "stream",
          "name": "stdout",
          "text": [
            "[1, 2, 3, 4]\n",
            "10\n"
          ]
        }
      ]
    },
    {
      "cell_type": "markdown",
      "source": [
        "8.Write a program to demonstrate the use of logical operators."
      ],
      "metadata": {
        "id": "_h6qxbKha9-Q"
      }
    },
    {
      "cell_type": "code",
      "source": [
        "a, b = True, False\n",
        "print(a and b)\n",
        "print(a or b)\n",
        "print(not a)"
      ],
      "metadata": {
        "colab": {
          "base_uri": "https://localhost:8080/"
        },
        "id": "iyaeWn9ta8q1",
        "outputId": "b9acb6ca-0390-4a42-ea3d-d3f7679c4d3e"
      },
      "execution_count": 16,
      "outputs": [
        {
          "output_type": "stream",
          "name": "stdout",
          "text": [
            "False\n",
            "True\n",
            "False\n"
          ]
        }
      ]
    },
    {
      "cell_type": "markdown",
      "source": [
        "9.Write a Python program to convert user input from string to integer, float, and boolean types."
      ],
      "metadata": {
        "id": "vwcEB6KwbGOM"
      }
    },
    {
      "cell_type": "code",
      "source": [
        "user_input = input(\"Enter a value: \")\n",
        "print(int(user_input), float(user_input), bool(user_input))"
      ],
      "metadata": {
        "colab": {
          "base_uri": "https://localhost:8080/"
        },
        "id": "08cn5dAVbE-7",
        "outputId": "0faf59dd-ac0b-470a-c450-bad46f792dc8"
      },
      "execution_count": 18,
      "outputs": [
        {
          "output_type": "stream",
          "name": "stdout",
          "text": [
            "Enter a value: 1\n",
            "1 1.0 True\n"
          ]
        }
      ]
    },
    {
      "cell_type": "markdown",
      "source": [
        "10.Write code to demonstrate type casting with list elements."
      ],
      "metadata": {
        "id": "5GEsN28-bP9-"
      }
    },
    {
      "cell_type": "code",
      "source": [
        "my_list = [\"1\", \"2\", \"3\"]\n",
        "int_list = list(map(int, my_list))\n",
        "print(int_list)  # [1, 2, 3]"
      ],
      "metadata": {
        "colab": {
          "base_uri": "https://localhost:8080/"
        },
        "id": "F_g8rjcBbKdK",
        "outputId": "f2d71650-c304-4dad-ed8a-d3469cd380ca"
      },
      "execution_count": 19,
      "outputs": [
        {
          "output_type": "stream",
          "name": "stdout",
          "text": [
            "[1, 2, 3]\n"
          ]
        }
      ]
    },
    {
      "cell_type": "markdown",
      "source": [
        "11.Write a program that checks if a number is positive, negative, or zero."
      ],
      "metadata": {
        "id": "hEYMR7phbVJJ"
      }
    },
    {
      "cell_type": "code",
      "source": [
        "num = int(input(\"Enter a number: \"))\n",
        "if num > 0:\n",
        "    print(\"Positive\")\n",
        "elif num < 0:\n",
        "    print(\"Negative\")\n",
        "else:\n",
        "    print(\"Zero\")"
      ],
      "metadata": {
        "colab": {
          "base_uri": "https://localhost:8080/"
        },
        "id": "8V-quEIGbTyG",
        "outputId": "0b2972a9-0a55-44ae-a3cb-e9b1944f32ce"
      },
      "execution_count": 20,
      "outputs": [
        {
          "output_type": "stream",
          "name": "stdout",
          "text": [
            "Enter a number: 10\n",
            "Positive\n"
          ]
        }
      ]
    },
    {
      "cell_type": "markdown",
      "source": [
        "12.Write a for loop to print numbers from 1 to 10."
      ],
      "metadata": {
        "id": "W9QoTAPxbeC4"
      }
    },
    {
      "cell_type": "code",
      "source": [
        "for i in range(1, 11):\n",
        "    print(i)\n"
      ],
      "metadata": {
        "colab": {
          "base_uri": "https://localhost:8080/"
        },
        "id": "CF3yqdI0bYy7",
        "outputId": "b5e83024-ed0b-4940-c517-3226df5bbc4b"
      },
      "execution_count": 22,
      "outputs": [
        {
          "output_type": "stream",
          "name": "stdout",
          "text": [
            "1\n",
            "2\n",
            "3\n",
            "4\n",
            "5\n",
            "6\n",
            "7\n",
            "8\n",
            "9\n",
            "10\n"
          ]
        }
      ]
    },
    {
      "cell_type": "markdown",
      "source": [
        "13.Write a Python program to find the sum of all even numbers between 1 and 50."
      ],
      "metadata": {
        "id": "2LA2vEnGbj1X"
      }
    },
    {
      "cell_type": "code",
      "source": [
        "print(sum(i for i in range(1, 51) if i % 2 == 0))"
      ],
      "metadata": {
        "colab": {
          "base_uri": "https://localhost:8080/"
        },
        "id": "Au98aSEbbdHv",
        "outputId": "69a55e2c-158f-4091-95f1-ca385a11fe53"
      },
      "execution_count": 24,
      "outputs": [
        {
          "output_type": "stream",
          "name": "stdout",
          "text": [
            "650\n"
          ]
        }
      ]
    },
    {
      "cell_type": "markdown",
      "source": [
        "14.Write a program to reverse a string using a while loop."
      ],
      "metadata": {
        "id": "KcnFe8-NbtXp"
      }
    },
    {
      "cell_type": "code",
      "source": [
        "s = input(\"Enter a string: \")\n",
        "reversed_s = \"\"\n",
        "i = len(s) - 1\n",
        "while i >= 0:\n",
        "    reversed_s += s[i]\n",
        "    i -= 1\n",
        "print(reversed_s)"
      ],
      "metadata": {
        "colab": {
          "base_uri": "https://localhost:8080/"
        },
        "id": "rlZQE3e2bovt",
        "outputId": "7f1066e9-95c9-4215-e022-6f1565edf706"
      },
      "execution_count": 25,
      "outputs": [
        {
          "output_type": "stream",
          "name": "stdout",
          "text": [
            "Enter a string: Nancy\n",
            "ycnaN\n"
          ]
        }
      ]
    },
    {
      "cell_type": "markdown",
      "source": [
        "15.Write a Python program to calculate the factorial of a number provided by the user using a while loop."
      ],
      "metadata": {
        "id": "tmI8w4sbbyOg"
      }
    },
    {
      "cell_type": "code",
      "source": [
        "num = int(input(\"Enter a number: \"))\n",
        "fact = 1\n",
        "while num > 1:\n",
        "    fact *= num\n",
        "    num -= 1\n",
        "print(f\"Factorial: {fact}\")"
      ],
      "metadata": {
        "colab": {
          "base_uri": "https://localhost:8080/"
        },
        "id": "QswQmxptbvUF",
        "outputId": "d5275299-b6fa-4bbf-aff4-8130d219f0e4"
      },
      "execution_count": 26,
      "outputs": [
        {
          "output_type": "stream",
          "name": "stdout",
          "text": [
            "Enter a number: 56\n",
            "Factorial: 710998587804863451854045647463724949736497978881168458687447040000000000000\n"
          ]
        }
      ]
    }
  ]
}